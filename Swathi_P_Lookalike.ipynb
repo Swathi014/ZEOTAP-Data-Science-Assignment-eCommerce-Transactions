{
  "nbformat": 4,
  "nbformat_minor": 0,
  "metadata": {
    "colab": {
      "provenance": [],
      "mount_file_id": "1dpqhXSN6C9bF0iQmKtoUK4uR41QSx8PZ",
      "authorship_tag": "ABX9TyO4se+KP6ELOrVWaxbffRVa",
      "include_colab_link": true
    },
    "kernelspec": {
      "name": "python3",
      "display_name": "Python 3"
    },
    "language_info": {
      "name": "python"
    }
  },
  "cells": [
    {
      "cell_type": "markdown",
      "metadata": {
        "id": "view-in-github",
        "colab_type": "text"
      },
      "source": [
        "<a href=\"https://colab.research.google.com/github/Swathi014/ZEOTAP-Data-Science-Assignment-eCommerce-Transactions/blob/main/Swathi_P_Lookalike.ipynb\" target=\"_parent\"><img src=\"https://colab.research.google.com/assets/colab-badge.svg\" alt=\"Open In Colab\"/></a>"
      ]
    },
    {
      "cell_type": "code",
      "execution_count": 6,
      "metadata": {
        "id": "KIvz48b6cSrc"
      },
      "outputs": [],
      "source": [
        "import pandas as pd\n",
        "from sklearn.metrics.pairwise import cosine_similarity\n",
        "from sklearn.preprocessing import StandardScaler"
      ]
    },
    {
      "cell_type": "code",
      "source": [
        "customers = pd.read_csv('/content/drive/MyDrive/Internship/Zeotap/Dataset/Customers.csv')\n",
        "transactions = pd.read_csv('/content/drive/MyDrive/Internship/Zeotap/Dataset/Transactions.csv')"
      ],
      "metadata": {
        "id": "dxHN87k1csWZ"
      },
      "execution_count": 7,
      "outputs": []
    },
    {
      "cell_type": "code",
      "source": [
        "# Aggregate transaction data for each customer\n",
        "customer_transactions = transactions.groupby('CustomerID').agg({\n",
        "    'TotalValue': 'sum',\n",
        "    'Quantity': 'sum'\n",
        "}).reset_index()\n",
        "\n",
        "print(customer_transactions)"
      ],
      "metadata": {
        "colab": {
          "base_uri": "https://localhost:8080/"
        },
        "id": "TPlzNSN9llnK",
        "outputId": "4be47f4c-c737-4199-a7d0-a5aca1e13c87"
      },
      "execution_count": 13,
      "outputs": [
        {
          "output_type": "stream",
          "name": "stdout",
          "text": [
            "    CustomerID  TotalValue  Quantity\n",
            "0        C0001     3354.52        12\n",
            "1        C0002     1862.74        10\n",
            "2        C0003     2725.38        14\n",
            "3        C0004     5354.88        23\n",
            "4        C0005     2034.24         7\n",
            "..         ...         ...       ...\n",
            "194      C0196     4982.88        12\n",
            "195      C0197     1928.65         9\n",
            "196      C0198      931.83         3\n",
            "197      C0199     1979.28         9\n",
            "198      C0200     4758.60        16\n",
            "\n",
            "[199 rows x 3 columns]\n"
          ]
        }
      ]
    },
    {
      "cell_type": "code",
      "source": [
        "# Merge customer and transaction data\n",
        "customer_data = pd.merge(customers, customer_transactions, on='CustomerID', how='left').fillna(0)\n",
        "print(customer_data)"
      ],
      "metadata": {
        "colab": {
          "base_uri": "https://localhost:8080/"
        },
        "id": "6tI5bbfGlnmD",
        "outputId": "ecc8a51c-82ce-4fb7-9b67-16ce6eb003fd"
      },
      "execution_count": 12,
      "outputs": [
        {
          "output_type": "stream",
          "name": "stdout",
          "text": [
            "    CustomerID        CustomerName         Region  SignupDate  TotalValue  \\\n",
            "0        C0001    Lawrence Carroll  South America  2022-07-10     3354.52   \n",
            "1        C0002      Elizabeth Lutz           Asia  2022-02-13     1862.74   \n",
            "2        C0003      Michael Rivera  South America  2024-03-07     2725.38   \n",
            "3        C0004  Kathleen Rodriguez  South America  2022-10-09     5354.88   \n",
            "4        C0005         Laura Weber           Asia  2022-08-15     2034.24   \n",
            "..         ...                 ...            ...         ...         ...   \n",
            "195      C0196         Laura Watts         Europe  2022-06-07     4982.88   \n",
            "196      C0197    Christina Harvey         Europe  2023-03-21     1928.65   \n",
            "197      C0198         Rebecca Ray         Europe  2022-02-27      931.83   \n",
            "198      C0199      Andrea Jenkins         Europe  2022-12-03     1979.28   \n",
            "199      C0200         Kelly Cross           Asia  2023-06-11     4758.60   \n",
            "\n",
            "     Quantity  \n",
            "0        12.0  \n",
            "1        10.0  \n",
            "2        14.0  \n",
            "3        23.0  \n",
            "4         7.0  \n",
            "..        ...  \n",
            "195      12.0  \n",
            "196       9.0  \n",
            "197       3.0  \n",
            "198       9.0  \n",
            "199      16.0  \n",
            "\n",
            "[200 rows x 6 columns]\n"
          ]
        }
      ]
    },
    {
      "cell_type": "code",
      "source": [
        "# Filter the first 20 customers (CustomerID: C0001 - C0020)\n",
        "customer_data = customer_data[customer_data['CustomerID'].isin([f'C{str(i).zfill(4)}' for i in range(1, 21)])]\n",
        "print(customer_data)"
      ],
      "metadata": {
        "colab": {
          "base_uri": "https://localhost:8080/"
        },
        "id": "BGSU5Ei3lssU",
        "outputId": "cbd9f408-bc51-4979-df60-4bad448dd045"
      },
      "execution_count": 14,
      "outputs": [
        {
          "output_type": "stream",
          "name": "stdout",
          "text": [
            "   CustomerID        CustomerName         Region  SignupDate  TotalValue  \\\n",
            "0       C0001    Lawrence Carroll  South America  2022-07-10     3354.52   \n",
            "1       C0002      Elizabeth Lutz           Asia  2022-02-13     1862.74   \n",
            "2       C0003      Michael Rivera  South America  2024-03-07     2725.38   \n",
            "3       C0004  Kathleen Rodriguez  South America  2022-10-09     5354.88   \n",
            "4       C0005         Laura Weber           Asia  2022-08-15     2034.24   \n",
            "5       C0006     Brittany Palmer  South America  2024-01-07     4227.57   \n",
            "6       C0007         Paul Graves           Asia  2022-06-18     2579.82   \n",
            "7       C0008            David Li  North America  2024-01-13     4271.61   \n",
            "8       C0009           Joy Clark         Europe  2023-08-14      896.50   \n",
            "9       C0010           Aaron Cox         Europe  2022-12-15     1717.55   \n",
            "10      C0011       Bryan Mathews  South America  2022-12-12     3730.00   \n",
            "11      C0012           Kevin May  South America  2024-08-07     5231.26   \n",
            "12      C0013     Lauren Buchanan  South America  2024-05-19     6000.56   \n",
            "13      C0014      Deborah Wilcox         Europe  2024-06-22      318.66   \n",
            "14      C0015          Tina Duran  North America  2023-11-20     1157.48   \n",
            "15      C0016         Emily Woods  North America  2024-01-03     3874.42   \n",
            "16      C0017       Jennifer King         Europe  2023-12-05     4753.82   \n",
            "17      C0018        Tyler Haynes  North America  2024-09-21     4781.85   \n",
            "18      C0019   Brandon Rodriguez         Europe  2023-01-12     2185.82   \n",
            "19      C0020   Mr. Manuel Conway  North America  2024-06-11      922.41   \n",
            "\n",
            "    Quantity  \n",
            "0       12.0  \n",
            "1       10.0  \n",
            "2       14.0  \n",
            "3       23.0  \n",
            "4        7.0  \n",
            "5       12.0  \n",
            "6        8.0  \n",
            "7       20.0  \n",
            "8        3.0  \n",
            "9       12.0  \n",
            "10      13.0  \n",
            "11      19.0  \n",
            "12      18.0  \n",
            "13       2.0  \n",
            "14       4.0  \n",
            "15      10.0  \n",
            "16      21.0  \n",
            "17      18.0  \n",
            "18      11.0  \n",
            "19       3.0  \n"
          ]
        }
      ]
    },
    {
      "cell_type": "code",
      "source": [
        "# Select features for the similarity calculation\n",
        "features = customer_data[['Region', 'TotalValue', 'Quantity']]\n",
        "features = pd.get_dummies(features, columns=['Region'])  # One-hot encode categorical features\n",
        "print(features)"
      ],
      "metadata": {
        "colab": {
          "base_uri": "https://localhost:8080/"
        },
        "id": "HzLOuy9BlvgQ",
        "outputId": "ab134c7c-5edf-440d-d536-b0b6e46b690d"
      },
      "execution_count": 16,
      "outputs": [
        {
          "output_type": "stream",
          "name": "stdout",
          "text": [
            "    TotalValue  Quantity  Region_Asia  Region_Europe  Region_North America  \\\n",
            "0      3354.52      12.0        False          False                 False   \n",
            "1      1862.74      10.0         True          False                 False   \n",
            "2      2725.38      14.0        False          False                 False   \n",
            "3      5354.88      23.0        False          False                 False   \n",
            "4      2034.24       7.0         True          False                 False   \n",
            "5      4227.57      12.0        False          False                 False   \n",
            "6      2579.82       8.0         True          False                 False   \n",
            "7      4271.61      20.0        False          False                  True   \n",
            "8       896.50       3.0        False           True                 False   \n",
            "9      1717.55      12.0        False           True                 False   \n",
            "10     3730.00      13.0        False          False                 False   \n",
            "11     5231.26      19.0        False          False                 False   \n",
            "12     6000.56      18.0        False          False                 False   \n",
            "13      318.66       2.0        False           True                 False   \n",
            "14     1157.48       4.0        False          False                  True   \n",
            "15     3874.42      10.0        False          False                  True   \n",
            "16     4753.82      21.0        False           True                 False   \n",
            "17     4781.85      18.0        False          False                  True   \n",
            "18     2185.82      11.0        False           True                 False   \n",
            "19      922.41       3.0        False          False                  True   \n",
            "\n",
            "    Region_South America  \n",
            "0                   True  \n",
            "1                  False  \n",
            "2                   True  \n",
            "3                   True  \n",
            "4                  False  \n",
            "5                   True  \n",
            "6                  False  \n",
            "7                  False  \n",
            "8                  False  \n",
            "9                  False  \n",
            "10                  True  \n",
            "11                  True  \n",
            "12                  True  \n",
            "13                 False  \n",
            "14                 False  \n",
            "15                 False  \n",
            "16                 False  \n",
            "17                 False  \n",
            "18                 False  \n",
            "19                 False  \n"
          ]
        }
      ]
    },
    {
      "cell_type": "code",
      "source": [
        "# Standardize numerical features for fair similarity computation\n",
        "scaler = StandardScaler()\n",
        "scaled_features = scaler.fit_transform(features)\n",
        "print(scaled_features)"
      ],
      "metadata": {
        "colab": {
          "base_uri": "https://localhost:8080/"
        },
        "id": "6QJoutohlx1h",
        "outputId": "e44da96e-2e35-4161-99b2-08984d0eae0c"
      },
      "execution_count": 18,
      "outputs": [
        {
          "output_type": "stream",
          "name": "stdout",
          "text": [
            "[[ 0.15512667  0.         -0.42008403 -0.57735027 -0.57735027  1.36277029]\n",
            " [-0.75072896 -0.32274861  2.38047614 -0.57735027 -0.57735027 -0.73379939]\n",
            " [-0.22690688  0.32274861 -0.42008403 -0.57735027 -0.57735027  1.36277029]\n",
            " [ 1.36980802  1.77511737 -0.42008403 -0.57735027 -0.57735027  1.36277029]\n",
            " [-0.64658877 -0.80687153  2.38047614 -0.57735027 -0.57735027 -0.73379939]\n",
            " [ 0.68527002  0.         -0.42008403 -0.57735027 -0.57735027  1.36277029]\n",
            " [-0.31529548 -0.64549722  2.38047614 -0.57735027 -0.57735027 -0.73379939]\n",
            " [ 0.71201249  1.29099445 -0.42008403 -0.57735027  1.73205081 -0.73379939]\n",
            " [-1.3374602  -1.45236875 -0.42008403  1.73205081 -0.57735027 -0.73379939]\n",
            " [-0.83889288  0.         -0.42008403  1.73205081 -0.57735027 -0.73379939]\n",
            " [ 0.3831299   0.16137431 -0.42008403 -0.57735027 -0.57735027  1.36277029]\n",
            " [ 1.29474208  1.12962014 -0.42008403 -0.57735027 -0.57735027  1.36277029]\n",
            " [ 1.76188518  0.96824584 -0.42008403 -0.57735027 -0.57735027  1.36277029]\n",
            " [-1.68834278 -1.61374306 -0.42008403  1.73205081 -0.57735027 -0.73379939]\n",
            " [-1.17898496 -1.29099445 -0.42008403 -0.57735027  1.73205081 -0.73379939]\n",
            " [ 0.47082626 -0.32274861 -0.42008403 -0.57735027  1.73205081 -0.73379939]\n",
            " [ 1.00482553  1.45236875 -0.42008403  1.73205081 -0.57735027 -0.73379939]\n",
            " [ 1.02184623  0.96824584 -0.42008403 -0.57735027  1.73205081 -0.73379939]\n",
            " [-0.55454464 -0.16137431 -0.42008403  1.73205081 -0.57735027 -0.73379939]\n",
            " [-1.32172684 -1.45236875 -0.42008403 -0.57735027  1.73205081 -0.73379939]]\n"
          ]
        }
      ]
    },
    {
      "cell_type": "code",
      "source": [
        "# Compute cosine similarity matrix\n",
        "similarity_matrix = cosine_similarity(scaled_features)\n",
        "print(similarity_matrix)"
      ],
      "metadata": {
        "colab": {
          "base_uri": "https://localhost:8080/"
        },
        "id": "6RIixDYIl0bO",
        "outputId": "2f20ba92-9154-4a80-c1ee-6a4ae7c7ecb9"
      },
      "execution_count": 19,
      "outputs": [
        {
          "output_type": "stream",
          "name": "stdout",
          "text": [
            "[[ 1.00000000e+00 -3.19890725e-01  9.55444206e-01  6.34820228e-01\n",
            "  -3.08228512e-01  9.55049604e-01 -3.08101653e-01 -3.35124512e-01\n",
            "  -3.64868545e-01 -4.50333384e-01  9.86408687e-01  7.39279905e-01\n",
            "   6.93834488e-01 -3.44349774e-01 -3.80283662e-01 -4.10527786e-01\n",
            "  -3.01961119e-01 -3.28558501e-01 -4.56203304e-01 -3.65306929e-01]\n",
            " [-3.19890725e-01  1.00000000e+00 -2.73075432e-01 -3.84460482e-01\n",
            "   9.84490324e-01 -3.77970216e-01  9.80370803e-01 -3.03601496e-01\n",
            "   4.45220302e-02 -8.32697978e-02 -3.59466299e-01 -4.08975922e-01\n",
            "  -4.16364598e-01  7.79863430e-02  2.37135102e-02 -2.39869120e-01\n",
            "  -3.19858708e-01 -3.27444242e-01 -1.14793634e-01  4.31096975e-02]\n",
            " [ 9.55444206e-01 -2.73075432e-01  1.00000000e+00  6.30581762e-01\n",
            "  -3.03857263e-01  8.45778074e-01 -3.20051748e-01 -2.92997044e-01\n",
            "  -3.47504323e-01 -3.52841102e-01  9.30501040e-01  6.89679757e-01\n",
            "   5.95483506e-01 -3.12488175e-01 -3.63928137e-01 -4.81321875e-01\n",
            "  -2.76163239e-01 -3.39666882e-01 -4.00404930e-01 -3.49174127e-01]\n",
            " [ 6.34820228e-01 -3.84460482e-01  6.30581762e-01  1.00000000e+00\n",
            "  -4.66112278e-01  7.35245219e-01 -3.85271235e-01  2.56241837e-01\n",
            "  -7.52954989e-01 -4.35540187e-01  7.45243252e-01  9.80298334e-01\n",
            "   9.46581501e-01 -7.78051219e-01 -7.28341179e-01 -2.43926404e-01\n",
            "   3.31130062e-01  2.38533647e-01 -4.35856545e-01 -7.52187497e-01]\n",
            " [-3.08228512e-01  9.84490324e-01 -3.03857263e-01 -4.66112278e-01\n",
            "   1.00000000e+00 -3.54070419e-01  9.91786749e-01 -3.74197319e-01\n",
            "   1.14362239e-01 -9.53598442e-02 -3.58267109e-01 -4.60006783e-01\n",
            "  -4.44693129e-01  1.45684175e-01  8.99683901e-02 -1.98897286e-01\n",
            "  -3.91000653e-01 -3.71424200e-01 -1.08400975e-01  1.13380463e-01]\n",
            " [ 9.55049604e-01 -3.77970216e-01  8.45778074e-01  7.35245219e-01\n",
            "  -3.54070419e-01  1.00000000e+00 -3.20170722e-01 -2.25686008e-01\n",
            "  -4.79532141e-01 -5.32076359e-01  9.81768624e-01  8.47514375e-01\n",
            "   8.45277423e-01 -4.82315681e-01 -4.84251891e-01 -3.13552803e-01\n",
            "  -1.68177863e-01 -1.80686300e-01 -5.01812453e-01 -4.78645631e-01]\n",
            " [-3.08101653e-01  9.80370803e-01 -3.20051748e-01 -3.85271235e-01\n",
            "   9.91786749e-01 -3.20170722e-01  1.00000000e+00 -3.22430165e-01\n",
            "   3.01472163e-02 -1.45769850e-01 -3.38232218e-01 -3.82329477e-01\n",
            "  -3.56192088e-01  5.32034998e-02  1.06082232e-02 -1.87930519e-01\n",
            "  -3.27415315e-01 -3.10944877e-01 -1.49251641e-01  2.95777516e-02]\n",
            " [-3.35124512e-01 -3.03601496e-01 -2.92997044e-01  2.56241837e-01\n",
            "  -3.74197319e-01 -2.25686008e-01 -3.22430165e-01  1.00000000e+00\n",
            "  -5.84848146e-01 -3.46182562e-01 -2.38662186e-01  1.50074300e-01\n",
            "   1.56604797e-01 -5.94395745e-01  2.31944604e-01  7.60392436e-01\n",
            "   1.95477855e-01  9.83783309e-01 -3.61633942e-01  1.75700358e-01]\n",
            " [-3.64868545e-01  4.45220302e-02 -3.47504323e-01 -7.52954989e-01\n",
            "   1.14362239e-01 -4.79532141e-01  3.01472163e-02 -5.84848146e-01\n",
            "   1.00000000e+00  8.41369604e-01 -4.68168280e-01 -7.25512658e-01\n",
            "  -7.17658121e-01  9.95419882e-01  2.88368546e-01 -2.45270854e-01\n",
            "   7.88379123e-02 -5.86231350e-01  8.51458593e-01  3.27053970e-01]\n",
            " [-4.50333384e-01 -8.32697978e-02 -3.52841102e-01 -4.35540187e-01\n",
            "  -9.53598442e-02 -5.32076359e-01 -1.45769850e-01 -3.46182562e-01\n",
            "   8.41369604e-01  1.00000000e+00 -4.90284186e-01 -4.97093984e-01\n",
            "  -5.24401445e-01  8.13188716e-01 -5.09460933e-02 -3.68499113e-01\n",
            "   5.49231246e-01 -4.00205348e-01  9.89109411e-01 -2.87624639e-02]\n",
            " [ 9.86408687e-01 -3.59466299e-01  9.30501040e-01  7.45243252e-01\n",
            "  -3.58267109e-01  9.81768624e-01 -3.38232218e-01 -2.38662186e-01\n",
            "  -4.68168280e-01 -4.90284186e-01  1.00000000e+00  8.38372142e-01\n",
            "   8.02408576e-01 -4.58825671e-01 -4.75915008e-01 -3.84168390e-01\n",
            "  -1.91904501e-01 -2.26424861e-01 -4.87209749e-01 -4.68140733e-01]\n",
            " [ 7.39279905e-01 -4.08975922e-01  6.89679757e-01  9.80298334e-01\n",
            "  -4.60006783e-01  8.47514375e-01 -3.82329477e-01  1.50074300e-01\n",
            "  -7.25512658e-01 -4.97093984e-01  8.38372142e-01  1.00000000e+00\n",
            "   9.84100918e-01 -7.50298593e-01 -7.06133477e-01 -2.50415063e-01\n",
            "   2.28027568e-01  1.58708440e-01 -4.80319653e-01 -7.24382685e-01]\n",
            " [ 6.93834488e-01 -4.16364598e-01  5.95483506e-01  9.46581501e-01\n",
            "  -4.44693129e-01  8.45277423e-01 -3.56192088e-01  1.56604797e-01\n",
            "  -7.17658121e-01 -5.24401445e-01  8.02408576e-01  9.84100918e-01\n",
            "   1.00000000e+00 -7.53014682e-01 -6.96050057e-01 -1.79201592e-01\n",
            "   2.42603993e-01  1.95682400e-01 -4.82677233e-01 -7.15757641e-01]\n",
            " [-3.44349774e-01  7.79863430e-02 -3.12488175e-01 -7.78051219e-01\n",
            "   1.45684175e-01 -4.82315681e-01  5.32034998e-02 -5.94395745e-01\n",
            "   9.95419882e-01  8.13188716e-01 -4.58825671e-01 -7.50298593e-01\n",
            "  -7.53014682e-01  1.00000000e+00  3.39396843e-01 -2.41832359e-01\n",
            "   9.72448034e-04 -6.04082877e-01  8.12801259e-01  3.79624972e-01]\n",
            " [-3.80283662e-01  2.37135102e-02 -3.63928137e-01 -7.28341179e-01\n",
            "   8.99683901e-02 -4.84251891e-01  1.06082232e-02  2.31944604e-01\n",
            "   2.88368546e-01 -5.09460933e-02 -4.75915008e-01 -7.06133477e-01\n",
            "  -6.96050057e-01  3.39396843e-01  1.00000000e+00  7.01347857e-01\n",
            "  -6.08843428e-01  2.43456955e-01 -7.57993749e-02  9.98325360e-01]\n",
            " [-4.10527786e-01 -2.39869120e-01 -4.81321875e-01 -2.43926404e-01\n",
            "  -1.98897286e-01 -3.13552803e-01 -1.87930519e-01  7.60392436e-01\n",
            "  -2.45270854e-01 -3.68499113e-01 -3.84168390e-01 -2.50415063e-01\n",
            "  -1.79201592e-01 -2.41832359e-01  7.01347857e-01  1.00000000e+00\n",
            "  -2.28734145e-01  8.21088251e-01 -3.41272306e-01  6.62354490e-01]\n",
            " [-3.01961119e-01 -3.19858708e-01 -2.76163239e-01  3.31130062e-01\n",
            "  -3.91000653e-01 -1.68177863e-01 -3.27415315e-01  1.95477855e-01\n",
            "   7.88379123e-02  5.49231246e-01 -1.91904501e-01  2.28027568e-01\n",
            "   2.42603993e-01  9.72448034e-04 -6.08843428e-01 -2.28734145e-01\n",
            "   1.00000000e+00  1.74619175e-01  5.81122759e-01 -6.27419634e-01]\n",
            " [-3.28558501e-01 -3.27444242e-01 -3.39666882e-01  2.38533647e-01\n",
            "  -3.71424200e-01 -1.80686300e-01 -3.10944877e-01  9.83783309e-01\n",
            "  -5.86231350e-01 -4.00205348e-01 -2.26424861e-01  1.58708440e-01\n",
            "   1.95682400e-01 -6.04082877e-01  2.43456955e-01  8.21088251e-01\n",
            "   1.74619175e-01  1.00000000e+00 -3.90638329e-01  1.87054911e-01]\n",
            " [-4.56203304e-01 -1.14793634e-01 -4.00404930e-01 -4.35856545e-01\n",
            "  -1.08400975e-01 -5.01812453e-01 -1.49251641e-01 -3.61633942e-01\n",
            "   8.51458593e-01  9.89109411e-01 -4.87209749e-01 -4.80319653e-01\n",
            "  -4.82677233e-01  8.12801259e-01 -7.57993749e-02 -3.41272306e-01\n",
            "   5.81122759e-01 -3.90638329e-01  1.00000000e+00 -5.39882517e-02]\n",
            " [-3.65306929e-01  4.31096975e-02 -3.49174127e-01 -7.52187497e-01\n",
            "   1.13380463e-01 -4.78645631e-01  2.95777516e-02  1.75700358e-01\n",
            "   3.27053970e-01 -2.87624639e-02 -4.68140733e-01 -7.24382685e-01\n",
            "  -7.15757641e-01  3.79624972e-01  9.98325360e-01  6.62354490e-01\n",
            "  -6.27419634e-01  1.87054911e-01 -5.39882517e-02  1.00000000e+00]]\n"
          ]
        }
      ]
    },
    {
      "cell_type": "code",
      "source": [
        "# Create a lookalike map\n",
        "lookalike_map = {}\n",
        "for i, customer_id in enumerate(customer_data['CustomerID']):\n",
        "    # Get the top 3 similar customers (excluding the current customer)\n",
        "    similar_indices = [\n",
        "        idx for idx in similarity_matrix[i].argsort()[::-1] if idx != i\n",
        "    ][:3]\n",
        "    similar_customers = customer_data['CustomerID'].iloc[similar_indices]\n",
        "    similar_scores = similarity_matrix[i][similar_indices]\n",
        "    lookalike_map[customer_id] = list(zip(similar_customers, similar_scores))\n",
        "\n",
        "print(lookalike_map['C0001'])"
      ],
      "metadata": {
        "colab": {
          "base_uri": "https://localhost:8080/"
        },
        "id": "I_j53hH1l4S3",
        "outputId": "1d541727-a882-4c85-fc39-60219a27c55c"
      },
      "execution_count": 21,
      "outputs": [
        {
          "output_type": "stream",
          "name": "stdout",
          "text": [
            "[('C0011', 0.9864086867552642), ('C0003', 0.9554442059718257), ('C0006', 0.9550496043142768)]\n"
          ]
        }
      ]
    },
    {
      "cell_type": "code",
      "source": [
        "# Convert the map to a DataFrame for CSV output\n",
        "lookalike_df = pd.DataFrame(list(lookalike_map.items()), columns=['CustomerID', 'Lookalikes'])"
      ],
      "metadata": {
        "id": "RFscEDk9l6OW"
      },
      "execution_count": 22,
      "outputs": []
    },
    {
      "cell_type": "code",
      "source": [
        "# Save to CSV\n",
        "lookalike_df.to_csv('Swathi_P_Lookalike.csv', index=False)"
      ],
      "metadata": {
        "id": "5N8kJhGSg8sn"
      },
      "execution_count": 23,
      "outputs": []
    },
    {
      "cell_type": "code",
      "source": [],
      "metadata": {
        "id": "QtLMooTMnLsb"
      },
      "execution_count": null,
      "outputs": []
    }
  ]
}